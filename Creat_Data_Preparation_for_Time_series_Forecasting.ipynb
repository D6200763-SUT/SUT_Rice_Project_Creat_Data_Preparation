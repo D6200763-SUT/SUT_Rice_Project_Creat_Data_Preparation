{
 "cells": [
  {
   "cell_type": "code",
   "execution_count": 1,
   "id": "f03f4359",
   "metadata": {},
   "outputs": [
    {
     "name": "stderr",
     "output_type": "stream",
     "text": [
      "/tmp/ipykernel_9770/2125509567.py:5: FutureWarning: The pandas.datetime class is deprecated and will be removed from pandas in a future version. Import from datetime module instead.\n",
      "  from pandas import datetime\n"
     ]
    }
   ],
   "source": [
    "from scipy.interpolate import interp1d\n",
    "import numpy as np\n",
    "import pandas as pd\n",
    "import matplotlib.pyplot as plt\n",
    "from pandas import datetime\n",
    "from matplotlib import pyplot\n",
    "import os\n",
    "# import glob\n",
    "\n"
   ]
  },
  {
   "cell_type": "code",
   "execution_count": null,
   "id": "8efb812f",
   "metadata": {
    "scrolled": true
   },
   "outputs": [],
   "source": [
    "# Input data  BPH+CLR\n",
    "\n",
    "path_adress1 = \".\\\\template-Data Parameters Required for Brown planthopper\\\\\"\n",
    "path_adress2 = \"\\\\BPH information from light trap\\\\\"\n",
    "path_adress3 = \"\\\\Mirid bug information from light trap\\\\\"\n",
    "path_adress4 = \"\\\\Information of weather\\\\\"\n",
    "path_adress5 = \"\\\\Information of cultivated rice varieties\\\\\"\n",
    "\n",
    "path_adress7 = \"\\\\station\\\\\"\n",
    "file_name_st = 'Data_lat_long_Rice research Center'\n",
    "\n",
    "csv_file =path_adress1 + path_adress7 + file_name_st + '.csv'\n",
    "\n",
    "df_st = pd.read_csv(csv_file)\n",
    "print(\"All low RiceCenter {} \" .format(df_st.shape[0]))\n",
    "# print('dataset_station')\n",
    "# df_st.head()"
   ]
  },
  {
   "cell_type": "markdown",
   "id": "4343f54c",
   "metadata": {},
   "source": [
    "# creat station BPH + Mirid bug + Weather + Rice varieties DATA"
   ]
  },
  {
   "cell_type": "code",
   "execution_count": null,
   "id": "6f972251",
   "metadata": {},
   "outputs": [],
   "source": [
    "date_start = '2015-01-01'\n",
    "date_end = '2019-12-31'\n",
    "\n",
    "for st in range(df_st.shape[0]):\n",
    "# for st in range(1):    \n",
    "\n",
    "    file_stN = str(df_st.iloc[st]['nameEng'])    \n",
    "    \n",
    "      \n",
    "    csv_file_bph = path_adress1 + path_adress2 + file_stN + ' ' + 'BPH'  + '.csv'\n",
    "#     print(csv_file_bph)\n",
    "    csv_file_mb = path_adress1 + path_adress3 + file_stN + ' ' + 'Mirid bug'  + '.csv'\n",
    "#     print(csv_file_mb)\n",
    "    csv_file_w = path_adress1 + path_adress4 + file_stN + ' ' + 'Weather'  + '.csv'\n",
    "#     print(csv_file_mb)\n",
    "    csv_file_rvin = path_adress1 + path_adress5 + file_stN + ' ' + 'in-season' + '.csv'\n",
    "#     print(csv_file_rvin)\n",
    "    csv_file_rvoff = path_adress1 + path_adress5 + file_stN + ' ' + 'off-season' + '.csv'\n",
    "#     print(csv_file_rvoff)\n",
    "    \n",
    "    df_bph = pd.read_csv(csv_file_bph,index_col='date')\n",
    "    df_mb = pd.read_csv(csv_file_mb,index_col='date')\n",
    "    \n",
    "    df_w = pd.read_csv(csv_file_w)\n",
    "    df_w['date'] = pd.to_datetime(df_w['date'], format='%m/%d/%Y') \n",
    "    df_w = df_w.set_index('date')\n",
    "    \n",
    "    df_rvin = pd.read_csv(csv_file_rvin,index_col='date',encoding=\"TIS-620\")\n",
    "    df_rvoff = pd.read_csv(csv_file_rvoff,index_col='date',encoding=\"TIS-620\")\n",
    "\n",
    "\n",
    "    df_bph = df_bph[(df_bph.index >= date_start)&(df_bph.index <= date_end)]    \n",
    "    df_mb = df_mb[(df_mb.index >= date_start)&(df_mb.index <= date_end)] \n",
    "#     df_w = df_w[(df_w.index >= date_start)&(df_w.index <= date_end)]\n",
    "#     df_rvin = df_rvin[(df_rvin.index >= date_start)&(df_rvin.index <= date_end)]\n",
    "#     df_rvoff = df_rvoff[(df_rvoff.index >= date_start)&(df_rvoff.index <= date_end)]\n",
    "    \n",
    "    df_out = pd.DataFrame(df_bph)    \n",
    "    df_out['mirid bug'] = df_mb.iloc[:,3].values.tolist()\n",
    "    \n",
    "    for col in range(len(list(df_w.columns))-3):\n",
    "        df_out[list(df_w.columns)[col+3]] = df_w.iloc[:,col+3].values.tolist()\n",
    "    for col in range(len(list(df_rvin.columns))-3):\n",
    "        df_out[list(df_rvin.columns)[col+3]] = df_rvin.iloc[:,col+3].values.tolist()\n",
    "    for col in range(len(list(df_rvoff.columns))-3):\n",
    "        df_out[list(df_rvoff.columns)[col+3]] = df_rvoff.iloc[:,col+3].values.tolist()\n",
    "        \n",
    "    df_out.reset_index(inplace = True)  \n",
    "\n",
    "    #Output : file name and Path Save file\n",
    "    path_adress_out = \".\\\\Import_Dataset\\\\\"\n",
    "    file_name_save = file_stN\n",
    "    dataset_path_save = path_adress_out + file_name_save + '.csv'\n",
    "    df_out.to_csv(dataset_path_save, index=False, encoding=\"TIS-620\")\n",
    "    print(\"{} {}\" .format(dataset_path_save,len(df_out)))\n",
    "    del df_out,df_bph,df_mb,df_rvin,df_rvoff,df_w\n",
    "   "
   ]
  },
  {
   "cell_type": "code",
   "execution_count": null,
   "id": "f46df0c7",
   "metadata": {},
   "outputs": [],
   "source": [
    "df_rvin"
   ]
  }
 ],
 "metadata": {
  "kernelspec": {
   "display_name": "Python 3.9.12 ('base')",
   "language": "python",
   "name": "python3"
  },
  "language_info": {
   "codemirror_mode": {
    "name": "ipython",
    "version": 3
   },
   "file_extension": ".py",
   "mimetype": "text/x-python",
   "name": "python",
   "nbconvert_exporter": "python",
   "pygments_lexer": "ipython3",
   "version": "3.9.12"
  },
  "vscode": {
   "interpreter": {
    "hash": "8e8988848542d10f25fd12cf88763082c5ddf4a14e6d9e40f84e4bdabc4ebe9d"
   }
  }
 },
 "nbformat": 4,
 "nbformat_minor": 5
}
